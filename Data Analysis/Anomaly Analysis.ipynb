{
 "cells": [
  {
   "cell_type": "markdown",
   "id": "74f14708-1bd8-46c0-8d9a-08d681eb2ca2",
   "metadata": {},
   "source": [
    "# This page will visualize the distribution of time-series dataset and the anomaly distribution"
   ]
  },
  {
   "cell_type": "code",
   "execution_count": 1,
   "id": "41e58075-579f-46fe-b953-b6444c98e9f1",
   "metadata": {},
   "outputs": [],
   "source": [
    "import sys\n",
    "import os\n",
    "parent_path = os.path.abspath(os.path.join(os.getcwd(), '..'))\n",
    "sys.path.append(parent_path)\n",
    "\n",
    "import pandas as pd\n",
    "import torch\n",
    "import random, argparse\n",
    "import matplotlib.pyplot as plt\n",
    "from sklearn.preprocessing import MinMaxScaler\n",
    "from TSB_AD.evaluation.metrics import get_metrics\n",
    "from TSB_AD.utils.slidingWindows import find_length_rank\n",
    "from TSB_AD.model_wrapper import *\n",
    "from TSB_AD.HP_list import Optimal_Uni_algo_HP_dict\n",
    "from sklearn.metrics import f1_score"
   ]
  },
  {
   "cell_type": "markdown",
   "id": "f62b7e07-ee57-4e85-8d78-9e44ece0127b",
   "metadata": {},
   "source": [
    "### LTDB_Medical"
   ]
  },
  {
   "cell_type": "code",
   "execution_count": 5,
   "id": "b40f7b9a-5a73-4eea-994a-01e1a397db31",
   "metadata": {},
   "outputs": [],
   "source": [
    "data_direc = '../Datasets/TSB-AD-U/'\n",
    "filename = '216_LTDB_id_1_Medical_tr_500_1st_266.csv'\n",
    "\n",
    "df = pd.read_csv(data_direc + filename).dropna()\n",
    "data = df.iloc[:, 0:-1].values.astype(float)\n",
    "label = df['Label'].astype(int).to_numpy()"
   ]
  },
  {
   "cell_type": "code",
   "execution_count": null,
   "id": "a17c6c11-b09b-4cd7-91f2-f9f1e63995ad",
   "metadata": {},
   "outputs": [],
   "source": []
  }
 ],
 "metadata": {
  "kernelspec": {
   "display_name": "Python 3 (ipykernel)",
   "language": "python",
   "name": "python3"
  },
  "language_info": {
   "codemirror_mode": {
    "name": "ipython",
    "version": 3
   },
   "file_extension": ".py",
   "mimetype": "text/x-python",
   "name": "python",
   "nbconvert_exporter": "python",
   "pygments_lexer": "ipython3",
   "version": "3.11.4"
  }
 },
 "nbformat": 4,
 "nbformat_minor": 5
}
